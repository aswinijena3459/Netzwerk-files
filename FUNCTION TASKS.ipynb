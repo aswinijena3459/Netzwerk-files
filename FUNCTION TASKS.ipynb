{
 "cells": [
  {
   "cell_type": "markdown",
   "metadata": {},
   "source": [
    "### Task 11.1\n",
    "Explain Return keyword with example."
   ]
  },
  {
   "cell_type": "markdown",
   "metadata": {},
   "source": [
    "A return statement is used to end the execution of the function call and “returns” the result or value of the expression following the return keyword to the caller."
   ]
  },
  {
   "cell_type": "code",
   "execution_count": 2,
   "metadata": {},
   "outputs": [
    {
     "data": {
      "text/plain": [
       "5"
      ]
     },
     "execution_count": 2,
     "metadata": {},
     "output_type": "execute_result"
    }
   ],
   "source": [
    "def add (a,b):\n",
    "    return a+b\n",
    "\n",
    "add(2,3)"
   ]
  },
  {
   "cell_type": "markdown",
   "metadata": {},
   "source": [
    "### Task11.2\n",
    "Ask 2 numbers from users and store it in num1 and num2\n",
    "\n",
    "Ask user to press 1 for addition,2 for subtraction,3 for multiplication and 4 for division\n",
    "\n",
    "create 4 seperate functions for each operation (i.e. addition,subtraction,multiplication and division)\n",
    "\n",
    "based on number given by user,call that perticular function and print the output\n"
   ]
  },
  {
   "cell_type": "code",
   "execution_count": 6,
   "metadata": {},
   "outputs": [
    {
     "name": "stdout",
     "output_type": "stream",
     "text": [
      "Enter any integer: 15\n",
      "Enter any integer: 5\n",
      "Enter any num between 1 and 4: 4\n"
     ]
    },
    {
     "data": {
      "text/plain": [
       "3.0"
      ]
     },
     "execution_count": 6,
     "metadata": {},
     "output_type": "execute_result"
    }
   ],
   "source": [
    "def add(a,b):\n",
    "    return a+b\n",
    "\n",
    "def subtract(a,b):\n",
    "    return a-b\n",
    "\n",
    "def multiply (a,b):\n",
    "    return a*b\n",
    "\n",
    "def divide (a,b):\n",
    "    return a/b\n",
    "\n",
    "def calculator():\n",
    "    a=int(input(\"Enter any integer: \"))\n",
    "    b=int(input(\"Enter any integer: \"))\n",
    "    c=int(input(\"Enter any num between 1 and 4: \"))\n",
    "    \n",
    "    if c==1:\n",
    "        return add(a,b)\n",
    "    elif c==2:\n",
    "        return subtract(a,b)\n",
    "    elif c==3:\n",
    "        return multiply(a,b)\n",
    "    else:\n",
    "        return divide(a,b)\n",
    "calculator()        "
   ]
  },
  {
   "cell_type": "code",
   "execution_count": null,
   "metadata": {},
   "outputs": [],
   "source": []
  },
  {
   "cell_type": "code",
   "execution_count": null,
   "metadata": {},
   "outputs": [],
   "source": []
  },
  {
   "cell_type": "code",
   "execution_count": null,
   "metadata": {},
   "outputs": [],
   "source": []
  },
  {
   "cell_type": "code",
   "execution_count": null,
   "metadata": {},
   "outputs": [],
   "source": []
  },
  {
   "cell_type": "code",
   "execution_count": null,
   "metadata": {},
   "outputs": [],
   "source": []
  },
  {
   "cell_type": "code",
   "execution_count": null,
   "metadata": {},
   "outputs": [],
   "source": []
  }
 ],
 "metadata": {
  "kernelspec": {
   "display_name": "Python 3",
   "language": "python",
   "name": "python3"
  },
  "language_info": {
   "codemirror_mode": {
    "name": "ipython",
    "version": 3
   },
   "file_extension": ".py",
   "mimetype": "text/x-python",
   "name": "python",
   "nbconvert_exporter": "python",
   "pygments_lexer": "ipython3",
   "version": "3.7.6"
  }
 },
 "nbformat": 4,
 "nbformat_minor": 4
}
