{
 "cells": [
  {
   "cell_type": "markdown",
   "metadata": {},
   "source": [
    "### 1.Using following list of cities per country"
   ]
  },
  {
   "cell_type": "markdown",
   "metadata": {},
   "source": [
    "### i.Write a program that asks user to enter a city name and it should tell which country the city belongs to"
   ]
  },
  {
   "cell_type": "code",
   "execution_count": 2,
   "metadata": {},
   "outputs": [],
   "source": [
    "india = [\"mumbai\", \"banglore\", \"chennai\", \"delhi\"]\n",
    "pakistan = [\"lahore\",\"karachi\",\"islamabad\"]\n",
    "bangladesh = [\"dhaka\", \"khulna\", \"rangpur\"]\n"
   ]
  },
  {
   "cell_type": "code",
   "execution_count": 3,
   "metadata": {},
   "outputs": [
    {
     "name": "stdout",
     "output_type": "stream",
     "text": [
      "Enter a city name: rangpur\n",
      "country name is Bangladesh\n"
     ]
    }
   ],
   "source": [
    "city=input('Enter a city name: ')\n",
    "\n",
    "if city in [\"mumbai\", \"banglore\", \"chennai\", \"delhi\"]:\n",
    "    print('country name is India')\n",
    "if city in [\"lahore\",\"karachi\",\"islamabad\"]:\n",
    "    print('country name is Pakistan')\n",
    "if city in [\"dhaka\", \"khulna\", \"rangpur\"]:\n",
    "    print('country name is Bangladesh')"
   ]
  },
  {
   "cell_type": "markdown",
   "metadata": {},
   "source": [
    "### ii.Write a program that asks user to enter two cities and it tells you if they both are in same country or not. For example if I enter mumbai and chennai, it will print \"Both cities are in India\" but if I enter mumbai and dhaka it should print \"They don't belong to same country\""
   ]
  },
  {
   "cell_type": "code",
   "execution_count": 5,
   "metadata": {},
   "outputs": [
    {
     "name": "stdout",
     "output_type": "stream",
     "text": [
      "Enter a city name: chennai\n",
      "Enter a city name: khulna\n",
      "They don't belong to same country\n"
     ]
    }
   ],
   "source": [
    "city1=input('Enter a city name: ')\n",
    "city2=input('Enter a city name: ')\n",
    "\n",
    "if city1 in india and city2 in india:\n",
    "    print('Both cities are in India')\n",
    "elif city1 in pakistan and city2 in pakistan:\n",
    "    print('Both cities are in pakistan')\n",
    "elif city1 in bangladesh and city2 in bangladesh:\n",
    "    print('Both cities are in bangladesh')\n",
    "else:\n",
    "    print(\"They don't belong to same country\")"
   ]
  },
  {
   "cell_type": "markdown",
   "metadata": {},
   "source": [
    "### 2.Write a python program that can tell you if your sugar is normal or not. Normal fasting level sugar range is 80 to 100.\n"
   ]
  },
  {
   "cell_type": "markdown",
   "metadata": {},
   "source": [
    "i. Ask user to enter his fasting sugar level\n",
    "\n",
    "ii.I f it is below 80 to 100 range then print that sugar is low\n",
    "\n",
    "iii. If it is above 100 then print that it is high otherwise print that it is normal"
   ]
  },
  {
   "cell_type": "code",
   "execution_count": 11,
   "metadata": {},
   "outputs": [
    {
     "name": "stdout",
     "output_type": "stream",
     "text": [
      "ENTER YOUR SUGAR LEVEL: 45\n",
      "your sugar level is low\n"
     ]
    }
   ],
   "source": [
    "sugar_level=int(input('ENTER YOUR SUGAR LEVEL: '))\n",
    "normal_sugar=range(80,101)\n",
    "if sugar_level in normal_sugar:\n",
    "    print('your sugar levels are normal')\n",
    "elif sugar_level > 100 :\n",
    "    print('your sugar level is high')\n",
    "elif sugar_level< 80:\n",
    "    print('your sugar level is low')"
   ]
  },
  {
   "cell_type": "code",
   "execution_count": null,
   "metadata": {},
   "outputs": [],
   "source": []
  },
  {
   "cell_type": "code",
   "execution_count": null,
   "metadata": {},
   "outputs": [],
   "source": []
  },
  {
   "cell_type": "code",
   "execution_count": null,
   "metadata": {},
   "outputs": [],
   "source": []
  },
  {
   "cell_type": "code",
   "execution_count": null,
   "metadata": {},
   "outputs": [],
   "source": []
  },
  {
   "cell_type": "code",
   "execution_count": null,
   "metadata": {},
   "outputs": [],
   "source": []
  },
  {
   "cell_type": "code",
   "execution_count": null,
   "metadata": {},
   "outputs": [],
   "source": []
  },
  {
   "cell_type": "code",
   "execution_count": null,
   "metadata": {},
   "outputs": [],
   "source": []
  },
  {
   "cell_type": "code",
   "execution_count": null,
   "metadata": {},
   "outputs": [],
   "source": []
  }
 ],
 "metadata": {
  "kernelspec": {
   "display_name": "Python 3",
   "language": "python",
   "name": "python3"
  },
  "language_info": {
   "codemirror_mode": {
    "name": "ipython",
    "version": 3
   },
   "file_extension": ".py",
   "mimetype": "text/x-python",
   "name": "python",
   "nbconvert_exporter": "python",
   "pygments_lexer": "ipython3",
   "version": "3.7.6"
  }
 },
 "nbformat": 4,
 "nbformat_minor": 4
}
