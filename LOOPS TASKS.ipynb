{
 "cells": [
  {
   "cell_type": "markdown",
   "metadata": {},
   "source": [
    "### Task 10.1 = what is the uasge of continue wiith an example.¶"
   ]
  },
  {
   "cell_type": "markdown",
   "metadata": {},
   "source": [
    "The continue statement instructs a loop to continue to the next iteration.You can use a continue statement in Python to skip over part of a loop when a condition is met."
   ]
  },
  {
   "cell_type": "code",
   "execution_count": 7,
   "metadata": {},
   "outputs": [
    {
     "name": "stdout",
     "output_type": "stream",
     "text": [
      "2\n",
      "4\n",
      "6\n",
      "8\n",
      "10\n"
     ]
    }
   ],
   "source": [
    "#printing all the even numbers between 1 and 11\n",
    "for i in range(1,11):\n",
    "    if i % 2==1:\n",
    "        continue\n",
    "    print(i)\n",
    "    "
   ]
  },
  {
   "cell_type": "markdown",
   "metadata": {},
   "source": [
    "### Task 10.2 What is pass keyword, with example."
   ]
  },
  {
   "cell_type": "markdown",
   "metadata": {},
   "source": [
    "When the pass statement is executed, nothing happens, but you avoid getting an error when empty code is not allowed."
   ]
  },
  {
   "cell_type": "code",
   "execution_count": 12,
   "metadata": {},
   "outputs": [],
   "source": [
    "n=2\n",
    "if n>5:\n",
    "    pass\n",
    "else:\n",
    "    n==-3\n",
    "    pass"
   ]
  },
  {
   "cell_type": "markdown",
   "metadata": {},
   "source": [
    "### Task10"
   ]
  },
  {
   "cell_type": "markdown",
   "metadata": {},
   "source": [
    "using while loop print numbers from 10 to 1\n",
    "\n",
    "try using for loop to loop over tuples,sets and dictionaries"
   ]
  },
  {
   "cell_type": "code",
   "execution_count": 1,
   "metadata": {},
   "outputs": [
    {
     "name": "stdout",
     "output_type": "stream",
     "text": [
      "10\n",
      "9\n",
      "8\n",
      "7\n",
      "6\n",
      "5\n",
      "4\n",
      "3\n",
      "2\n",
      "1\n"
     ]
    }
   ],
   "source": [
    "i=10\n",
    "n=1\n",
    "while(i>=n):\n",
    "    print(i)\n",
    "    i=i-1"
   ]
  },
  {
   "cell_type": "code",
   "execution_count": 8,
   "metadata": {},
   "outputs": [
    {
     "name": "stdout",
     "output_type": "stream",
     "text": [
      "name\n",
      "roll_no\n",
      "class\n",
      "course\n"
     ]
    }
   ],
   "source": [
    "a={\"name\":\"aswini\",\"roll_no\":14,\"class\":2,\"course\":\"bds\"}\n",
    "for keys in a :\n",
    "    print(keys)"
   ]
  },
  {
   "cell_type": "code",
   "execution_count": null,
   "metadata": {},
   "outputs": [],
   "source": []
  }
 ],
 "metadata": {
  "kernelspec": {
   "display_name": "Python 3",
   "language": "python",
   "name": "python3"
  },
  "language_info": {
   "codemirror_mode": {
    "name": "ipython",
    "version": 3
   },
   "file_extension": ".py",
   "mimetype": "text/x-python",
   "name": "python",
   "nbconvert_exporter": "python",
   "pygments_lexer": "ipython3",
   "version": "3.7.6"
  }
 },
 "nbformat": 4,
 "nbformat_minor": 4
}
