{
 "cells": [
  {
   "cell_type": "markdown",
   "metadata": {},
   "source": [
    "### 1."
   ]
  },
  {
   "cell_type": "code",
   "execution_count": 8,
   "metadata": {},
   "outputs": [
    {
     "name": "stdout",
     "output_type": "stream",
     "text": [
      "enter print,query,add or remove: add\n",
      "enter a country to add in the dataset: namibia\n",
      "enter the population of namibia90\n",
      "china==>143\n",
      "india==>136\n",
      "usa==>32\n",
      "pakistan==>21\n",
      "namibia==>90.0\n"
     ]
    }
   ],
   "source": [
    "population={'china':143,'india':136,'usa':32,'pakistan':21}\n",
    "\n",
    "\n",
    "\n",
    "def add():\n",
    "    country=input('enter a country to add in the dataset: ')\n",
    "    country=country.lower()\n",
    "    if country in population:\n",
    "        print('This country is already present in our dataset,Terminating')\n",
    "        return\n",
    "    else:\n",
    "        p=input(f'enter the population of {country}')\n",
    "        p=float(p)\n",
    "        population[country]=p\n",
    "    for country,p in population.items():\n",
    "              print(f'{country}==>{p}')\n",
    "              \n",
    "                \n",
    "\n",
    "def remove():\n",
    "    country=input('enter a country to remove in the dataset: ')\n",
    "    country=country.lower()\n",
    "    if country  not in population:\n",
    "        print('This country is not present in our dataset,Terminating')\n",
    "        return\n",
    "    else:\n",
    "        del population[country]\n",
    "    for country,p in population.items():\n",
    "              print(f'{country}==>{p}')\n",
    "            \n",
    "def query():\n",
    "    country=input('enter a country to query in the dataset: ')\n",
    "    country=country.lower()\n",
    "    if country  not in population:\n",
    "        print('This country is not present in our dataset,Terminating')\n",
    "        return\n",
    "    else:\n",
    "        print(f'population of {country} is :{population[country]}crores')\n",
    "\n",
    "def print_all():\n",
    "    for country,p in population.items():\n",
    "        print(f'{country}==>{p}')\n",
    "            \n",
    "            \n",
    "if requirement=='add':\n",
    "    add()\n",
    "elif requirement=='remove':\n",
    "    remove()\n",
    "elif requirement=='query':\n",
    "    query()\n",
    "else:\n",
    "    print_all()"
   ]
  },
  {
   "cell_type": "code",
   "execution_count": 13,
   "metadata": {},
   "outputs": [
    {
     "name": "stdout",
     "output_type": "stream",
     "text": [
      "Enter operation (add, remove, query or print):add\n",
      "Enter country name to add:namibia\n",
      "Enter population for namibia90\n",
      "china==>143\n",
      "india==>136\n",
      "usa==>32\n",
      "pakistan==>21\n",
      "namibia==>90.0\n"
     ]
    }
   ],
   "source": [
    "population = {\n",
    "    'china': 143,\n",
    "    'india': 136,\n",
    "    'usa': 32,\n",
    "    'pakistan': 21\n",
    "}\n",
    "\n",
    "def add():\n",
    "    country=input(\"Enter country name to add:\")\n",
    "    country=country.lower()\n",
    "    if country in population:\n",
    "        print(\"Country already exist in our dataset. Terminating\")\n",
    "        return\n",
    "    p=input(f\"Enter population for {country}\")\n",
    "    p=float(p)\n",
    "    population[country]=p # Adds new key value pair to dictionary\n",
    "    print_all()\n",
    "\n",
    "def remove():\n",
    "    country = input(\"Enter country name to remove:\")\n",
    "    country = country.lower()\n",
    "    if country not in population:\n",
    "        print(\"Country doesn't exist in our dataset. Terminating\")\n",
    "        return\n",
    "    del population[country]\n",
    "    print_all()\n",
    "\n",
    "def query():\n",
    "    country = input(\"Enter country name to query:\")\n",
    "    country = country.lower()\n",
    "    if country not in population:\n",
    "        print(\"Country doesn't exist in our dataset. Terminating\")\n",
    "        return\n",
    "    print(f\"Population of {country} is: {population[country]} crore\")\n",
    "\n",
    "def print_all():\n",
    "    for country, p in population.items():\n",
    "        print(f\"{country}==>{p}\")\n",
    "\n",
    "def main():\n",
    "    op=input(\"Enter operation (add, remove, query or print):\")\n",
    "    if op.lower() == 'add':\n",
    "        add()\n",
    "    elif op.lower() == 'remove':\n",
    "        remove()\n",
    "    elif op.lower() == 'query':\n",
    "        query()\n",
    "    elif op.lower() == 'print':\n",
    "        print_all()\n",
    "\n",
    "if __name__ == '__main__':\n",
    "    main()"
   ]
  },
  {
   "cell_type": "markdown",
   "metadata": {},
   "source": [
    "### 2."
   ]
  },
  {
   "cell_type": "code",
   "execution_count": 56,
   "metadata": {},
   "outputs": [],
   "source": [
    "stockprices={'info':[630,600,620],'ril':[1430,1490,1567],'mtl':[234,180,160]}\n",
    "import statistics\n",
    "\n",
    "def print_all():\n",
    "    for stock,price in stockprices.items():\n",
    "        avg=statistics.mean(price)\n",
    "        print(f'{stock}==>{price}==>{round(avg,2)}')\n",
    "\n",
    "def add():\n",
    "    s=input('Enter stockname: ')\n",
    "    p=input('enter stock price: ')\n",
    "    p=float(p)\n",
    "    if s in stockprices:\n",
    "        stockprices.append(p)\n",
    "    else:\n",
    "        stockprices[s]=[p]   \n",
    "    print_all()\n",
    "            \n",
    "def stockmarket():\n",
    "    action=input('Enter add or print: ')\n",
    "    if action == 'add':\n",
    "        add()\n",
    "    else:\n",
    "        print_all()\n",
    "    "
   ]
  },
  {
   "cell_type": "code",
   "execution_count": 57,
   "metadata": {},
   "outputs": [
    {
     "name": "stdout",
     "output_type": "stream",
     "text": [
      "Enter add or print: add\n",
      "Enter stockname: bsnl\n",
      "enter stock price: 897\n",
      "info==>[630, 600, 620]==>616.67\n",
      "ril==>[1430, 1490, 1567]==>1495.67\n",
      "mtl==>[234, 180, 160]==>191.33\n",
      "bsnl==>[897.0]==>897.0\n"
     ]
    }
   ],
   "source": [
    "stockmarket()"
   ]
  },
  {
   "cell_type": "markdown",
   "metadata": {},
   "source": [
    "### 3.Write circle_calc() function that takes radius of a circle as an input from user and then it calculates and returns area, circumference and diameter. You should get these values in your main program by calling circle_calc function and then print them"
   ]
  },
  {
   "cell_type": "code",
   "execution_count": 58,
   "metadata": {},
   "outputs": [],
   "source": [
    "def circle_area(radius):\n",
    "    area=2.14*(radius**2)\n",
    "    area=float(area)\n",
    "    print('area of the circle is: ',area)\n",
    "\n",
    "def circle_circumference(radius):\n",
    "    perimeter=2*2.14*radius\n",
    "    perimeter=float(perimeter)\n",
    "    print('perimeter of the circle is: ',perimeter)\n",
    "\n",
    "    \n",
    "def circle_diameter(radius):\n",
    "    diameter=2*radius\n",
    "    diameter=float(diameter)\n",
    "    print('diameter of the circle is: ',diameter)\n",
    "\n",
    "def circle_calulation(radius):\n",
    "    circle_area(radius)\n",
    "    circle_circumference(radius)    \n",
    "    circle_diameter(radius)"
   ]
  },
  {
   "cell_type": "code",
   "execution_count": 59,
   "metadata": {},
   "outputs": [
    {
     "name": "stdout",
     "output_type": "stream",
     "text": [
      "area of the circle is:  104.86\n",
      "perimeter of the circle is:  29.96\n",
      "diameter of the circle is:  14.0\n"
     ]
    }
   ],
   "source": [
    "circle_calulation(7)"
   ]
  },
  {
   "cell_type": "code",
   "execution_count": null,
   "metadata": {},
   "outputs": [],
   "source": []
  },
  {
   "cell_type": "code",
   "execution_count": null,
   "metadata": {},
   "outputs": [],
   "source": []
  },
  {
   "cell_type": "code",
   "execution_count": null,
   "metadata": {},
   "outputs": [],
   "source": []
  }
 ],
 "metadata": {
  "kernelspec": {
   "display_name": "Python 3",
   "language": "python",
   "name": "python3"
  },
  "language_info": {
   "codemirror_mode": {
    "name": "ipython",
    "version": 3
   },
   "file_extension": ".py",
   "mimetype": "text/x-python",
   "name": "python",
   "nbconvert_exporter": "python",
   "pygments_lexer": "ipython3",
   "version": "3.7.6"
  }
 },
 "nbformat": 4,
 "nbformat_minor": 4
}
