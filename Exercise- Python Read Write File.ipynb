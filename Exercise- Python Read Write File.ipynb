{
 "cells": [
  {
   "cell_type": "markdown",
   "metadata": {},
   "source": [
    "### 1. poem.txt contains famous poem \"Road not taken\" by poet Robert Frost. You have to read this file in your python program and find out words with maximum occurance."
   ]
  },
  {
   "cell_type": "code",
   "execution_count": 22,
   "metadata": {},
   "outputs": [
    {
     "name": "stdout",
     "output_type": "stream",
     "text": [
      "two : 2\n",
      "roads : 2\n",
      "diverged : 2\n",
      "in : 4\n",
      "a : 3\n",
      "yellow : 1\n",
      "wood, : 2\n",
      "and : 9\n",
      "sorry : 1\n",
      "i : 8\n",
      "could : 2\n",
      "not : 1\n",
      "travel : 1\n",
      "both : 2\n",
      "be : 2\n",
      "one : 3\n",
      "traveler, : 1\n",
      "long : 1\n",
      "stood : 1\n",
      "looked : 1\n",
      "down : 1\n",
      "as : 5\n",
      "far : 1\n",
      "to : 2\n",
      "where : 1\n",
      "it : 2\n",
      "bent : 1\n",
      "the : 8\n",
      "undergrowth; : 1\n",
      "then : 1\n",
      "took : 2\n",
      "other, : 1\n",
      "just : 1\n",
      "fair, : 1\n",
      "having : 1\n",
      "perhaps : 1\n",
      "better : 1\n",
      "claim, : 1\n",
      "because : 1\n",
      "was : 1\n",
      "grassy : 1\n",
      "wanted : 1\n",
      "wear; : 1\n",
      "though : 1\n",
      "for : 2\n",
      "that : 3\n",
      "passing : 1\n",
      "there : 1\n",
      "had : 2\n",
      "worn : 1\n",
      "them : 1\n",
      "really : 1\n",
      "about : 1\n",
      "same, : 1\n",
      "morning : 1\n",
      "equally : 1\n",
      "lay : 1\n",
      "leaves : 1\n",
      "no : 1\n",
      "step : 1\n",
      "trodden : 1\n",
      "black. : 1\n",
      "oh, : 1\n",
      "kept : 1\n",
      "first : 1\n",
      "another : 1\n",
      "day! : 1\n",
      "yet : 1\n",
      "knowing : 1\n",
      "how : 1\n",
      "way : 1\n",
      "leads : 1\n",
      "on : 1\n",
      "way, : 1\n",
      "doubted : 1\n",
      "if : 1\n",
      "should : 1\n",
      "ever : 1\n",
      "come : 1\n",
      "back. : 1\n",
      "shall : 1\n",
      "telling : 1\n",
      "this : 1\n",
      "with : 1\n",
      "sigh : 1\n",
      "somewhere : 1\n",
      "ages : 2\n",
      "hence: : 1\n",
      "iâ€” : 1\n",
      "less : 1\n",
      "traveled : 1\n",
      "by, : 1\n",
      "has : 1\n",
      "made : 1\n",
      "all : 1\n",
      "difference. : 1\n"
     ]
    }
   ],
   "source": [
    "file=open('poem.txt','r')\n",
    "d=dict()\n",
    "for line in file:\n",
    "    line=line.strip()\n",
    "    line=line.lower()\n",
    "    words=line.split()\n",
    "    for word in words:\n",
    "        if word in d:\n",
    "            d[word]=d[word]+1\n",
    "        else:\n",
    "            d[word]=1\n",
    "for key in list(d.keys()):\n",
    "    print(key,':',d[key])\n",
    "    \n"
   ]
  },
  {
   "cell_type": "code",
   "execution_count": null,
   "metadata": {},
   "outputs": [],
   "source": []
  },
  {
   "cell_type": "code",
   "execution_count": 51,
   "metadata": {},
   "outputs": [
    {
     "name": "stdout",
     "output_type": "stream",
     "text": [
      "the poem has 23 no of lines\n"
     ]
    }
   ],
   "source": [
    "file=open('poem.txt','r')\n",
    "file_lines=file.readlines()\n",
    "counter=1\n",
    "\n",
    "print(f'the poem has {len(file_lines)} no of lines')"
   ]
  },
  {
   "cell_type": "code",
   "execution_count": 12,
   "metadata": {},
   "outputs": [
    {
     "name": "stdout",
     "output_type": "stream",
     "text": [
      "['Two', 'roads', 'diverged', 'in', 'a', 'yellow', 'wood,\\n']\n",
      "['And', 'sorry', 'I', 'could', 'not', 'travel', 'both\\n']\n",
      "['And', 'be', 'one', 'traveler,', 'long', 'I', 'stood\\n']\n",
      "['And', 'looked', 'down', 'one', 'as', 'far', 'as', 'I', 'could\\n']\n",
      "['To', 'where', 'it', 'bent', 'in', 'the', 'undergrowth;\\n']\n",
      "['\\n']\n",
      "['Then', 'took', 'the', 'other,', 'as', 'just', 'as', 'fair,\\n']\n",
      "['And', 'having', 'perhaps', 'the', 'better', 'claim,\\n']\n",
      "['Because', 'it', 'was', 'grassy', 'and', 'wanted', 'wear;\\n']\n",
      "['Though', 'as', 'for', 'that', 'the', 'passing', 'there\\n']\n",
      "['Had', 'worn', 'them', 'really', 'about', 'the', 'same,\\n']\n",
      "['\\n']\n",
      "['And', 'both', 'that', 'morning', 'equally', 'lay\\n']\n",
      "['In', 'leaves', 'no', 'step', 'had', 'trodden', 'black.\\n']\n",
      "['Oh,', 'I', 'kept', 'the', 'first', 'for', 'another', 'day!\\n']\n",
      "['Yet', 'knowing', 'how', 'way', 'leads', 'on', 'to', 'way,\\n']\n",
      "['I', 'doubted', 'if', 'I', 'should', 'ever', 'come', 'back.\\n']\n",
      "['\\n']\n",
      "['I', 'shall', 'be', 'telling', 'this', 'with', 'a', 'sigh\\n']\n",
      "['Somewhere', 'ages', 'and', 'ages', 'hence:\\n']\n",
      "['Two', 'roads', 'diverged', 'in', 'a', 'wood,', 'and', 'Iâ€”\\n']\n",
      "['I', 'took', 'the', 'one', 'less', 'traveled', 'by,\\n']\n",
      "['And', 'that', 'has', 'made', 'all', 'the', 'difference.']\n"
     ]
    }
   ],
   "source": [
    "file=open('poem.txt','r')\n",
    "for line in file:\n",
    "    tokens=line.split(' ')\n",
    "    print((tokens))"
   ]
  },
  {
   "cell_type": "code",
   "execution_count": 8,
   "metadata": {},
   "outputs": [
    {
     "data": {
      "text/plain": [
       "['ksgfvbksadj',\n",
       " 'cnkasdnc',\n",
       " 'lskhaufkscandcsamxc',\n",
       " 'clasihfeklasmcxma',\n",
       " 'kuawegggdhisandxuief',\n",
       " 'jaaaaadcbguys']"
      ]
     },
     "execution_count": 8,
     "metadata": {},
     "output_type": "execute_result"
    }
   ],
   "source": [
    "p='     ksgfvbksadj cnkasdnc lskhaufkscandcsamxc clasihfeklasmcxma\\nkuawegggdhisandxuief\\njaaaaadcbguys  \\n    '\n",
    "p.split()"
   ]
  },
  {
   "cell_type": "code",
   "execution_count": 27,
   "metadata": {},
   "outputs": [],
   "source": [
    "file_handle=open('practice_file.txt','w')\n",
    "file_handle.write('this is line one of the file.\\nthis is line two of the file.\\nthis is line three of the file')\n",
    "file_handle.close()"
   ]
  },
  {
   "cell_type": "code",
   "execution_count": 36,
   "metadata": {},
   "outputs": [
    {
     "name": "stdout",
     "output_type": "stream",
     "text": [
      "this is line one of the file.\n",
      "this is line two of the file.\n",
      "this is line three of the file\n"
     ]
    }
   ],
   "source": [
    "file=open('practice_file.txt','r')\n",
    "print(file.read())"
   ]
  },
  {
   "cell_type": "code",
   "execution_count": 38,
   "metadata": {},
   "outputs": [
    {
     "name": "stdout",
     "output_type": "stream",
     "text": [
      "['this is line one of the file.\\n', 'this is line two of the file.\\n', 'this is line three of the file']\n"
     ]
    }
   ],
   "source": [
    "file=open('practice_file.txt','r')\n",
    "file_lines=file.readlines()\n",
    "file.close()\n",
    "print(file_lines)"
   ]
  },
  {
   "cell_type": "code",
   "execution_count": 39,
   "metadata": {},
   "outputs": [
    {
     "name": "stdout",
     "output_type": "stream",
     "text": [
      "1 this is line one of the file.\n",
      "\n",
      "2 this is line two of the file.\n",
      "\n",
      "3 this is line three of the file\n"
     ]
    }
   ],
   "source": [
    "counter=1\n",
    "for line in file_lines:\n",
    "    print(counter,line)\n",
    "    counter+=1"
   ]
  },
  {
   "cell_type": "markdown",
   "metadata": {},
   "source": [
    "### 2.stocks.csv contains stock price, earnings per share and book value. You are writing a stock market application that will process this file and create a new file with financial metrics such as pe ratio and price to book ratio. These are calculated as,"
   ]
  },
  {
   "cell_type": "code",
   "execution_count": 9,
   "metadata": {},
   "outputs": [],
   "source": [
    "with open('stocks.txt','r') as file , open ('stockratios.csv','w') as stockratios:\n",
    "    stockratios.write('Company name, PE ratio,PB ratio\\n')\n",
    "    next(file)\n",
    "    for line in file:\n",
    "        line=line.split(',')\n",
    "        stock=line[0]\n",
    "        price = float(line[1])\n",
    "        eps = float(line[2])\n",
    "        book = float(line[3])\n",
    "        pe = round(price / eps, 2)\n",
    "        pb = round(price / book, 2)\n",
    "        stockratios.write(f\"{stock},{pe},{pb}\\n\")"
   ]
  },
  {
   "cell_type": "code",
   "execution_count": null,
   "metadata": {},
   "outputs": [],
   "source": []
  },
  {
   "cell_type": "code",
   "execution_count": null,
   "metadata": {},
   "outputs": [],
   "source": []
  },
  {
   "cell_type": "code",
   "execution_count": null,
   "metadata": {},
   "outputs": [],
   "source": []
  },
  {
   "cell_type": "code",
   "execution_count": null,
   "metadata": {},
   "outputs": [],
   "source": []
  },
  {
   "cell_type": "code",
   "execution_count": null,
   "metadata": {},
   "outputs": [],
   "source": []
  },
  {
   "cell_type": "code",
   "execution_count": null,
   "metadata": {},
   "outputs": [],
   "source": []
  },
  {
   "cell_type": "code",
   "execution_count": null,
   "metadata": {},
   "outputs": [],
   "source": []
  }
 ],
 "metadata": {
  "kernelspec": {
   "display_name": "Python 3",
   "language": "python",
   "name": "python3"
  },
  "language_info": {
   "codemirror_mode": {
    "name": "ipython",
    "version": 3
   },
   "file_extension": ".py",
   "mimetype": "text/x-python",
   "name": "python",
   "nbconvert_exporter": "python",
   "pygments_lexer": "ipython3",
   "version": "3.7.6"
  }
 },
 "nbformat": 4,
 "nbformat_minor": 4
}
