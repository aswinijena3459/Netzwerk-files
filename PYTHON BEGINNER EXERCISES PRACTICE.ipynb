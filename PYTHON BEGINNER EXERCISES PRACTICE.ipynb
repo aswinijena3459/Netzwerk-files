{
 "cells": [
  {
   "cell_type": "code",
   "execution_count": 4,
   "metadata": {},
   "outputs": [
    {
     "name": "stdout",
     "output_type": "stream",
     "text": [
      "Hello World !\n"
     ]
    }
   ],
   "source": [
    "print(\"Hello World !\")"
   ]
  },
  {
   "cell_type": "code",
   "execution_count": 5,
   "metadata": {},
   "outputs": [
    {
     "name": "stdout",
     "output_type": "stream",
     "text": [
      "Enter your name: Aswini\n",
      "hello  Aswini\n"
     ]
    }
   ],
   "source": [
    "user_name=input(\"Enter your name: \")\n",
    "print(\"hello \",user_name)"
   ]
  },
  {
   "cell_type": "code",
   "execution_count": 9,
   "metadata": {},
   "outputs": [
    {
     "name": "stdout",
     "output_type": "stream",
     "text": [
      "Enter one integer: 4\n",
      "Enter another integer: 5\n",
      "9\n"
     ]
    }
   ],
   "source": [
    "no1=int(input(\"Enter one integer: \"))\n",
    "no2=int(input(\"Enter another integer: \"))\n",
    "print(no1 + no2)"
   ]
  },
  {
   "cell_type": "code",
   "execution_count": 16,
   "metadata": {},
   "outputs": [
    {
     "name": "stdout",
     "output_type": "stream",
     "text": [
      "0,2,4,6,8,10,12,14,16,18,20,22,24,26,28,30,32,34,36,38,40,42,44,46,48,50,52,54,56,58,60,62,64,66,68,70,72,74,76,78,80,82,84,86,88,90,92,94,96,98,100,"
     ]
    }
   ],
   "source": [
    "for i in range(101):\n",
    "    if i%2==0:\n",
    "        print(i,end=\",\")"
   ]
  },
  {
   "cell_type": "markdown",
   "metadata": {},
   "source": [
    "#### Print odd numbers below 50, in descending order"
   ]
  },
  {
   "cell_type": "code",
   "execution_count": 13,
   "metadata": {},
   "outputs": [
    {
     "name": "stdout",
     "output_type": "stream",
     "text": [
      "49 47 45 43 41 39 37 35 33 31 29 27 25 23 21 19 17 15 13 11 9 7 5 3 "
     ]
    }
   ],
   "source": [
    "for i in range(49,2,-2):\n",
    "    if i%2==1:\n",
    "        print(i,end=\" \")\n",
    "    "
   ]
  },
  {
   "cell_type": "markdown",
   "metadata": {},
   "source": [
    "#### Print prime numbers below 100."
   ]
  },
  {
   "cell_type": "code",
   "execution_count": 4,
   "metadata": {},
   "outputs": [
    {
     "name": "stdout",
     "output_type": "stream",
     "text": [
      "2 3 5 7 11 13 17 19 23 29 31 37 41 43 47 53 59 61 67 71 73 79 83 89 97 "
     ]
    }
   ],
   "source": [
    "start=2\n",
    "end=100\n",
    "for i in range(start,end+1):\n",
    "    if i>1:\n",
    "        for j in range(start,i):\n",
    "            if i%j==0:\n",
    "                break\n",
    "        else :\n",
    "            print(i,end=\" \")"
   ]
  },
  {
   "cell_type": "markdown",
   "metadata": {},
   "source": [
    "#### 7: Take two numbers from user, and print the biggest."
   ]
  },
  {
   "cell_type": "code",
   "execution_count": 5,
   "metadata": {},
   "outputs": [
    {
     "name": "stdout",
     "output_type": "stream",
     "text": [
      "Enter any integer: 78\n",
      "Enter any integer: 90\n",
      "90\n"
     ]
    }
   ],
   "source": [
    "first_int=input(\"Enter any integer: \")\n",
    "second_int=input(\"Enter any integer: \")\n",
    "\n",
    "if first_int >second_int:\n",
    "    print(first_int)\n",
    "else:\n",
    "    print(second_int)"
   ]
  },
  {
   "cell_type": "markdown",
   "metadata": {},
   "source": [
    "#### 8: Take three numbers from user, and print the biggest."
   ]
  },
  {
   "cell_type": "code",
   "execution_count": 7,
   "metadata": {},
   "outputs": [
    {
     "name": "stdout",
     "output_type": "stream",
     "text": [
      "Enter any integer: 89\n",
      "Enter any integer: 67\n",
      "Enter any integer: 45\n",
      "89\n"
     ]
    }
   ],
   "source": [
    "no1=int(input(\"Enter any integer: \"))\n",
    "no2=int(input(\"Enter any integer: \"))\n",
    "no3=int(input(\"Enter any integer: \"))\n",
    "\n",
    "if no1>no2 & no3:\n",
    "    print(no1)\n",
    "elif no2 > no1 & no3:\n",
    "    print(no2)\n",
    "else:\n",
    "    print(no3)\n",
    "    "
   ]
  },
  {
   "cell_type": "markdown",
   "metadata": {},
   "source": [
    "#### 9: Ask the user for a number, to pick the color from the list.\n",
    "\n",
    "Blue, Green, Orange, Red\n",
    "\n",
    "and print the color."
   ]
  },
  {
   "cell_type": "code",
   "execution_count": 15,
   "metadata": {},
   "outputs": [
    {
     "name": "stdout",
     "output_type": "stream",
     "text": [
      "Enter any number between 1 and 4: 2\n",
      "you have chosen  Orange\n"
     ]
    }
   ],
   "source": [
    "color_list=[\"Blue\",\"Green\",\"Orange\",\"Red\"]\n",
    "pick_number=int(input(\"Enter any number between 1 and 4: \"))\n",
    "\n",
    "if pick_number == 1:\n",
    "    print(\"you have chosen \",color_list[1])\n",
    "    \n",
    "elif pick_number == 2:\n",
    "    print(\"you have chosen \",color_list[2])\n",
    "\n",
    "elif pick_number == 3:\n",
    "    print(\"you have chosen \",color_list[3])\n",
    "    \n",
    "else:\n",
    "    print(\"You have chosen Red\")\n"
   ]
  },
  {
   "cell_type": "code",
   "execution_count": null,
   "metadata": {},
   "outputs": [],
   "source": []
  },
  {
   "cell_type": "code",
   "execution_count": null,
   "metadata": {},
   "outputs": [],
   "source": []
  },
  {
   "cell_type": "code",
   "execution_count": null,
   "metadata": {},
   "outputs": [],
   "source": []
  },
  {
   "cell_type": "code",
   "execution_count": null,
   "metadata": {},
   "outputs": [],
   "source": []
  },
  {
   "cell_type": "code",
   "execution_count": null,
   "metadata": {},
   "outputs": [],
   "source": []
  },
  {
   "cell_type": "code",
   "execution_count": null,
   "metadata": {},
   "outputs": [],
   "source": []
  },
  {
   "cell_type": "code",
   "execution_count": null,
   "metadata": {},
   "outputs": [],
   "source": []
  },
  {
   "cell_type": "code",
   "execution_count": null,
   "metadata": {},
   "outputs": [],
   "source": []
  }
 ],
 "metadata": {
  "kernelspec": {
   "display_name": "Python 3",
   "language": "python",
   "name": "python3"
  },
  "language_info": {
   "codemirror_mode": {
    "name": "ipython",
    "version": 3
   },
   "file_extension": ".py",
   "mimetype": "text/x-python",
   "name": "python",
   "nbconvert_exporter": "python",
   "pygments_lexer": "ipython3",
   "version": "3.7.6"
  }
 },
 "nbformat": 4,
 "nbformat_minor": 4
}
